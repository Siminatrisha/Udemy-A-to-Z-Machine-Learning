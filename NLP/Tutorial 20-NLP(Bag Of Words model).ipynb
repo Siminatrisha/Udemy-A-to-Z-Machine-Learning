{
 "cells": [
  {
   "cell_type": "code",
   "execution_count": 1,
   "metadata": {
    "colab": {},
    "colab_type": "code",
    "executionInfo": {
     "elapsed": 883,
     "status": "ok",
     "timestamp": 1593262050028,
     "user": {
      "displayName": "Sawradip Saha",
      "photoUrl": "https://lh3.googleusercontent.com/a-/AOh14GjiknncyResq9DxB1krpJnhEFgTIz65ifrUq64R2hs=s64",
      "userId": "07399611378604694216"
     },
     "user_tz": -360
    },
    "id": "1yULruM-zKgz"
   },
   "outputs": [],
   "source": [
    "# Importing the libraries\n",
    "import numpy as np\n",
    "import matplotlib.pyplot as plt\n",
    "import pandas as pd\n"
   ]
  },
  {
   "cell_type": "code",
   "execution_count": 2,
   "metadata": {
    "colab": {},
    "colab_type": "code",
    "executionInfo": {
     "elapsed": 1080,
     "status": "ok",
     "timestamp": 1593262171197,
     "user": {
      "displayName": "Sawradip Saha",
      "photoUrl": "https://lh3.googleusercontent.com/a-/AOh14GjiknncyResq9DxB1krpJnhEFgTIz65ifrUq64R2hs=s64",
      "userId": "07399611378604694216"
     },
     "user_tz": -360
    },
    "id": "qU5Yxwbe0Yck"
   },
   "outputs": [],
   "source": [
    "# Importing the dataset\n",
    "dataset = pd.read_csv('Restaurant_Reviews.tsv' , delimiter = '\\t' , quoting = 3)"
   ]
  },
  {
   "cell_type": "markdown",
   "metadata": {
    "colab_type": "text",
    "id": "WWtjiaqo2fOj"
   },
   "source": [
    "Here We are going to use the 'Bag of Words'(BOW) method."
   ]
  },
  {
   "cell_type": "code",
   "execution_count": 23,
   "metadata": {
    "colab": {
     "base_uri": "https://localhost:8080/",
     "height": 34
    },
    "colab_type": "code",
    "executionInfo": {
     "elapsed": 815,
     "status": "ok",
     "timestamp": 1593266325118,
     "user": {
      "displayName": "Sawradip Saha",
      "photoUrl": "https://lh3.googleusercontent.com/a-/AOh14GjiknncyResq9DxB1krpJnhEFgTIz65ifrUq64R2hs=s64",
      "userId": "07399611378604694216"
     },
     "user_tz": -360
    },
    "id": "Vq5DgUiLEqLv",
    "outputId": "8c0fbece-4fc2-4a58-f23b-cd53dcad388e"
   },
   "outputs": [
    {
     "data": {
      "text/plain": [
       "1000"
      ]
     },
     "execution_count": 23,
     "metadata": {
      "tags": []
     },
     "output_type": "execute_result"
    }
   ],
   "source": [
    "len(dataset)"
   ]
  },
  {
   "cell_type": "code",
   "execution_count": 27,
   "metadata": {
    "colab": {
     "base_uri": "https://localhost:8080/",
     "height": 51
    },
    "colab_type": "code",
    "executionInfo": {
     "elapsed": 2713,
     "status": "ok",
     "timestamp": 1593267418650,
     "user": {
      "displayName": "Sawradip Saha",
      "photoUrl": "https://lh3.googleusercontent.com/a-/AOh14GjiknncyResq9DxB1krpJnhEFgTIz65ifrUq64R2hs=s64",
      "userId": "07399611378604694216"
     },
     "user_tz": -360
    },
    "id": "7s0om0gq01_J",
    "outputId": "f2cd0bd4-806b-4977-dae2-3447e6f1c762"
   },
   "outputs": [
    {
     "name": "stdout",
     "output_type": "stream",
     "text": [
      "[nltk_data] Downloading package stopwords to /root/nltk_data...\n",
      "[nltk_data]   Package stopwords is already up-to-date!\n"
     ]
    }
   ],
   "source": [
    "#Cleaning the texts\n",
    "import re                                                                                         #This library has the tools to clean dataset\n",
    "import nltk\n",
    "nltk.download('stopwords')                                                                        #This package contains all the stopwords(irrelivent words to ourcon text)\n",
    "from nltk.corpus import stopwords\n",
    "from nltk.stem.porter import PorterStemmer                                                        #This package will convert all the words to their root form\n",
    "corpus = []\n",
    "for i in range(len(dataset)):                                             \n",
    "  review = re.sub('[^a-zA-Z]' , ' ' , dataset['Review'][i])                                       #We want to remove everything other than the characters,and remove all of them with spaces(' ')    \n",
    "  review = review.lower()\n",
    "  review = review.split()                                                                         #This will convert the text into list of words \n",
    "  ps = PorterStemmer()\n",
    "  review = [ ps.stem(word) for word in review if not word in set(stopwords.words('english'))]     #set function is must for  large text.For small texts like us,it is optional.                \n",
    "  review = ' '.join(review)                                                                       #This will join the processed list of words into a sentence seperated by space(' ')\n",
    "  corpus.append(review)                                                            "
   ]
  },
  {
   "cell_type": "code",
   "execution_count": 32,
   "metadata": {
    "colab": {},
    "colab_type": "code",
    "executionInfo": {
     "elapsed": 968,
     "status": "ok",
     "timestamp": 1593267654784,
     "user": {
      "displayName": "Sawradip Saha",
      "photoUrl": "https://lh3.googleusercontent.com/a-/AOh14GjiknncyResq9DxB1krpJnhEFgTIz65ifrUq64R2hs=s64",
      "userId": "07399611378604694216"
     },
     "user_tz": -360
    },
    "id": "KpHgKEcN033a"
   },
   "outputs": [],
   "source": [
    "#Creating the Bag Of Words model\n",
    "from sklearn.feature_extraction.text import  CountVectorizer\n",
    "cv = CountVectorizer(max_features = 1500)\n",
    "X = cv.fit_transform(corpus).toarray()\n",
    "y = dataset.iloc[:,1].values"
   ]
  },
  {
   "cell_type": "code",
   "execution_count": 35,
   "metadata": {
    "colab": {
     "base_uri": "https://localhost:8080/",
     "height": 34
    },
    "colab_type": "code",
    "executionInfo": {
     "elapsed": 966,
     "status": "ok",
     "timestamp": 1593268014011,
     "user": {
      "displayName": "Sawradip Saha",
      "photoUrl": "https://lh3.googleusercontent.com/a-/AOh14GjiknncyResq9DxB1krpJnhEFgTIz65ifrUq64R2hs=s64",
      "userId": "07399611378604694216"
     },
     "user_tz": -360
    },
    "id": "Wu-5puc-4lCp",
    "outputId": "f1c05b42-78ca-4f08-b5f6-02d6de66236b"
   },
   "outputs": [
    {
     "name": "stdout",
     "output_type": "stream",
     "text": [
      "(900, 1500)\n"
     ]
    }
   ],
   "source": [
    "#Splitting the dataset into Training set and Test set\n",
    "\n",
    "from sklearn.model_selection import train_test_split\n",
    "\n",
    "X_train,X_test,y_train,y_test = train_test_split(X,y, test_size = 0.1 , random_state = 0)\n",
    "print(X_train.shape)\n"
   ]
  },
  {
   "cell_type": "code",
   "execution_count": 36,
   "metadata": {
    "colab": {
     "base_uri": "https://localhost:8080/",
     "height": 34
    },
    "colab_type": "code",
    "executionInfo": {
     "elapsed": 1231,
     "status": "ok",
     "timestamp": 1593268035262,
     "user": {
      "displayName": "Sawradip Saha",
      "photoUrl": "https://lh3.googleusercontent.com/a-/AOh14GjiknncyResq9DxB1krpJnhEFgTIz65ifrUq64R2hs=s64",
      "userId": "07399611378604694216"
     },
     "user_tz": -360
    },
    "id": "B4zXxhytI6O9",
    "outputId": "0989bc5d-4e74-4fea-de23-b99b4dcd19da"
   },
   "outputs": [
    {
     "data": {
      "text/plain": [
       "GaussianNB(priors=None, var_smoothing=1e-09)"
      ]
     },
     "execution_count": 36,
     "metadata": {
      "tags": []
     },
     "output_type": "execute_result"
    }
   ],
   "source": [
    "#Fitting Naive Bayes Classifier to the dataset\n",
    "\n",
    "from sklearn.naive_bayes import GaussianNB\n",
    "\n",
    "classifier = GaussianNB()\n",
    "classifier.fit(X_train,y_train)"
   ]
  },
  {
   "cell_type": "code",
   "execution_count": 37,
   "metadata": {
    "colab": {
     "base_uri": "https://localhost:8080/",
     "height": 68
    },
    "colab_type": "code",
    "executionInfo": {
     "elapsed": 851,
     "status": "ok",
     "timestamp": 1593268046495,
     "user": {
      "displayName": "Sawradip Saha",
      "photoUrl": "https://lh3.googleusercontent.com/a-/AOh14GjiknncyResq9DxB1krpJnhEFgTIz65ifrUq64R2hs=s64",
      "userId": "07399611378604694216"
     },
     "user_tz": -360
    },
    "id": "s-0zqbOYLNmS",
    "outputId": "8a048287-7ad1-409b-90d2-2cbb5b9a2962"
   },
   "outputs": [
    {
     "name": "stdout",
     "output_type": "stream",
     "text": [
      "[1 1 1 0 0 1 1 1 1 1 1 1 1 1 1 1 0 0 0 1 0 0 1 1 1 0 1 1 1 0 1 1 1 1 1 0 1\n",
      " 0 1 1 1 1 1 0 1 0 1 1 0 0 1 1 1 1 0 0 1 1 0 1 1 0 1 1 1 0 1 1 1 1 1 1 1 1\n",
      " 0 1 1 0 0 1 0 1 1 0 1 1 0 0 1 1 0 1 0 0 1 1 1 1 1 1]\n"
     ]
    }
   ],
   "source": [
    "#Prediicting the Test Set results\n",
    "\n",
    "y_pred = classifier.predict(X_test)\n",
    "print(y_pred)"
   ]
  },
  {
   "cell_type": "code",
   "execution_count": 38,
   "metadata": {
    "colab": {
     "base_uri": "https://localhost:8080/",
     "height": 51
    },
    "colab_type": "code",
    "executionInfo": {
     "elapsed": 1008,
     "status": "ok",
     "timestamp": 1593268057444,
     "user": {
      "displayName": "Sawradip Saha",
      "photoUrl": "https://lh3.googleusercontent.com/a-/AOh14GjiknncyResq9DxB1krpJnhEFgTIz65ifrUq64R2hs=s64",
      "userId": "07399611378604694216"
     },
     "user_tz": -360
    },
    "id": "huOZnkQhLQcF",
    "outputId": "dc3ae99e-7415-478c-9c23-7c53f2f81952"
   },
   "outputs": [
    {
     "name": "stdout",
     "output_type": "stream",
     "text": [
      "[[27 24]\n",
      " [ 3 46]]\n"
     ]
    }
   ],
   "source": [
    "#Making Confusion Matrix\n",
    "from sklearn.metrics import confusion_matrix\n",
    "cm = confusion_matrix(y_test , y_pred)\n",
    "print(cm)"
   ]
  },
  {
   "cell_type": "code",
   "execution_count": null,
   "metadata": {
    "colab": {},
    "colab_type": "code",
    "id": "v_c420VYLTEl"
   },
   "outputs": [],
   "source": []
  }
 ],
 "metadata": {
  "colab": {
   "authorship_tag": "ABX9TyP7lr4365xXGxsAKV9WVTV4",
   "collapsed_sections": [],
   "name": "Tutorial 20-NLP(Bag Of Words model).ipynb",
   "provenance": []
  },
  "kernelspec": {
   "display_name": "Python 3 (ipykernel)",
   "language": "python",
   "name": "python3"
  },
  "language_info": {
   "codemirror_mode": {
    "name": "ipython",
    "version": 3
   },
   "file_extension": ".py",
   "mimetype": "text/x-python",
   "name": "python",
   "nbconvert_exporter": "python",
   "pygments_lexer": "ipython3",
   "version": "3.11.5"
  }
 },
 "nbformat": 4,
 "nbformat_minor": 1
}
