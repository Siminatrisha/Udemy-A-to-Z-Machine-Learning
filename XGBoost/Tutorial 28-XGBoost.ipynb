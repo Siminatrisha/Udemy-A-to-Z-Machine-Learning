{
 "cells": [
  {
   "cell_type": "markdown",
   "metadata": {
    "colab_type": "text",
    "id": "qcApHclKzhZW"
   },
   "source": [
    "Feature Scaling not necessary for XGBoost"
   ]
  },
  {
   "cell_type": "code",
   "execution_count": 1,
   "metadata": {
    "colab": {},
    "colab_type": "code",
    "executionInfo": {
     "elapsed": 1501,
     "status": "ok",
     "timestamp": 1593782790581,
     "user": {
      "displayName": "Sawradip Saha",
      "photoUrl": "https://lh3.googleusercontent.com/a-/AOh14GjiknncyResq9DxB1krpJnhEFgTIz65ifrUq64R2hs=s64",
      "userId": "07399611378604694216"
     },
     "user_tz": -360
    },
    "id": "1yULruM-zKgz"
   },
   "outputs": [],
   "source": [
    "# Importing the libraries\n",
    "import numpy as np\n",
    "import matplotlib.pyplot as plt\n",
    "import pandas as pd\n"
   ]
  },
  {
   "cell_type": "code",
   "execution_count": 2,
   "metadata": {
    "colab": {},
    "colab_type": "code",
    "executionInfo": {
     "elapsed": 1496,
     "status": "ok",
     "timestamp": 1593782790595,
     "user": {
      "displayName": "Sawradip Saha",
      "photoUrl": "https://lh3.googleusercontent.com/a-/AOh14GjiknncyResq9DxB1krpJnhEFgTIz65ifrUq64R2hs=s64",
      "userId": "07399611378604694216"
     },
     "user_tz": -360
    },
    "id": "qU5Yxwbe0Yck"
   },
   "outputs": [],
   "source": [
    "# Importing the dataset\n",
    "dataset = pd.read_csv('Churn_Modelling.csv')\n",
    "\n",
    "X = dataset.iloc[:,3:13].values\n",
    "y = dataset.iloc[:,-1].values"
   ]
  },
  {
   "cell_type": "code",
   "execution_count": 4,
   "metadata": {
    "colab": {},
    "colab_type": "code",
    "executionInfo": {
     "elapsed": 1435,
     "status": "ok",
     "timestamp": 1593782817506,
     "user": {
      "displayName": "Sawradip Saha",
      "photoUrl": "https://lh3.googleusercontent.com/a-/AOh14GjiknncyResq9DxB1krpJnhEFgTIz65ifrUq64R2hs=s64",
      "userId": "07399611378604694216"
     },
     "user_tz": -360
    },
    "id": "Vq5DgUiLEqLv"
   },
   "outputs": [],
   "source": [
    "#Encoding categorical data\n",
    "\n",
    "from sklearn.preprocessing import LabelEncoder , OneHotEncoder\n",
    "from sklearn.compose import ColumnTransformer\n",
    "\n",
    "labelencoder_X_1 = LabelEncoder()                                                 #the categorical data (country & label here) will be  \n",
    "X[:,1] = labelencoder_X_1.fit_transform(X[:,1])                                   #transformed into labels(0,1,2.....)\n",
    "\n",
    "labelencoder_X_2 = LabelEncoder()\n",
    "X[:,2] = labelencoder_X_2.fit_transform(X[:,2] )\n",
    "\n",
    "columntransformer = ColumnTransformer([('Countries', OneHotEncoder() , [1])] , remainder = \"passthrough\")            #but if some countries are labeled with higher values\n",
    "X = columntransformer.fit_transform(X)                                                                          #that can be misleading, so we transform them to one-hot vectors.\n",
    "X = X[: , 1:]\n",
    "\n"
   ]
  },
  {
   "cell_type": "code",
   "execution_count": 5,
   "metadata": {
    "colab": {},
    "colab_type": "code",
    "executionInfo": {
     "elapsed": 1148,
     "status": "ok",
     "timestamp": 1593782822757,
     "user": {
      "displayName": "Sawradip Saha",
      "photoUrl": "https://lh3.googleusercontent.com/a-/AOh14GjiknncyResq9DxB1krpJnhEFgTIz65ifrUq64R2hs=s64",
      "userId": "07399611378604694216"
     },
     "user_tz": -360
    },
    "id": "ZDvr2y-vDhzE"
   },
   "outputs": [],
   "source": [
    "#Splitting the dataset into Training set and Test set\n",
    "\n",
    "from sklearn.model_selection import train_test_split\n",
    "\n",
    "X_train,X_test,y_train,y_test = train_test_split(X,y, test_size = 0.2 , random_state = 0)"
   ]
  },
  {
   "cell_type": "code",
   "execution_count": 7,
   "metadata": {
    "colab": {
     "base_uri": "https://localhost:8080/",
     "height": 136
    },
    "colab_type": "code",
    "executionInfo": {
     "elapsed": 1208,
     "status": "ok",
     "timestamp": 1593782836387,
     "user": {
      "displayName": "Sawradip Saha",
      "photoUrl": "https://lh3.googleusercontent.com/a-/AOh14GjiknncyResq9DxB1krpJnhEFgTIz65ifrUq64R2hs=s64",
      "userId": "07399611378604694216"
     },
     "user_tz": -360
    },
    "id": "dT-_ziUy1N74",
    "outputId": "77a7c5c1-0ea4-40c8-8bc7-6e75cf521a9e"
   },
   "outputs": [
    {
     "data": {
      "text/plain": [
       "XGBClassifier(base_score=0.5, booster='gbtree', colsample_bylevel=1,\n",
       "              colsample_bynode=1, colsample_bytree=1, gamma=0,\n",
       "              learning_rate=0.1, max_delta_step=0, max_depth=3,\n",
       "              min_child_weight=1, missing=None, n_estimators=100, n_jobs=1,\n",
       "              nthread=None, objective='binary:logistic', random_state=0,\n",
       "              reg_alpha=0, reg_lambda=1, scale_pos_weight=1, seed=None,\n",
       "              silent=None, subsample=1, verbosity=1)"
      ]
     },
     "execution_count": 7,
     "metadata": {
      "tags": []
     },
     "output_type": "execute_result"
    }
   ],
   "source": [
    "#Fitting XGBoost to the training set\n",
    "from xgboost import XGBClassifier\n",
    "classifier = XGBClassifier()\n",
    "classifier.fit(X_train , y_train)"
   ]
  },
  {
   "cell_type": "code",
   "execution_count": 8,
   "metadata": {
    "colab": {},
    "colab_type": "code",
    "executionInfo": {
     "elapsed": 1242,
     "status": "ok",
     "timestamp": 1593782839690,
     "user": {
      "displayName": "Sawradip Saha",
      "photoUrl": "https://lh3.googleusercontent.com/a-/AOh14GjiknncyResq9DxB1krpJnhEFgTIz65ifrUq64R2hs=s64",
      "userId": "07399611378604694216"
     },
     "user_tz": -360
    },
    "id": "huOZnkQhLQcF"
   },
   "outputs": [],
   "source": [
    "#predicting the Test Set results\n",
    "\n",
    "y_pred = classifier.predict(X_test)\n"
   ]
  },
  {
   "cell_type": "code",
   "execution_count": null,
   "metadata": {
    "colab": {},
    "colab_type": "code",
    "executionInfo": {
     "elapsed": 2022,
     "status": "aborted",
     "timestamp": 1593782791165,
     "user": {
      "displayName": "Sawradip Saha",
      "photoUrl": "https://lh3.googleusercontent.com/a-/AOh14GjiknncyResq9DxB1krpJnhEFgTIz65ifrUq64R2hs=s64",
      "userId": "07399611378604694216"
     },
     "user_tz": -360
    },
    "id": "v_c420VYLTEl"
   },
   "outputs": [],
   "source": [
    "#Making the confusion matrix\n",
    "from sklearn.metrics import confusion_matrix\n",
    "cm = confusion_matrix( y_test , y_pred)"
   ]
  },
  {
   "cell_type": "code",
   "execution_count": null,
   "metadata": {
    "colab": {},
    "colab_type": "code",
    "executionInfo": {
     "elapsed": 1988,
     "status": "aborted",
     "timestamp": 1593782791168,
     "user": {
      "displayName": "Sawradip Saha",
      "photoUrl": "https://lh3.googleusercontent.com/a-/AOh14GjiknncyResq9DxB1krpJnhEFgTIz65ifrUq64R2hs=s64",
      "userId": "07399611378604694216"
     },
     "user_tz": -360
    },
    "id": "bRBCXi99OzQH"
   },
   "outputs": [],
   "source": [
    "cm"
   ]
  },
  {
   "cell_type": "code",
   "execution_count": null,
   "metadata": {
    "colab": {},
    "colab_type": "code",
    "id": "4RUwUTnsO1xE"
   },
   "outputs": [],
   "source": [
    " #Applying K-fold cross  validation\n",
    "from sklearn.model_selection import cross_val_score\n",
    "accuracies = cross_val_score(estimator = classifier , X = X_train , y = y_train , cv = 10)            #Estimator = classifier is because classifier is\n",
    "                                                                                                      #the object of the Support Vector model here \n",
    "print(accuracies)\n",
    "print(accuracies.mean())                                                           #This gives the mean accuracy in K-folds,It is measure of bais.S\n",
    "print(accuracies.std())  "
   ]
  }
 ],
 "metadata": {
  "colab": {
   "authorship_tag": "ABX9TyPvKyxMSO0x1UfnSF3N7Ec0",
   "collapsed_sections": [],
   "name": "Tutorial 28-XGBoost.ipynb",
   "provenance": [
    {
     "file_id": "1jfjQy7vPktWb3g5y6EAqnu7jspAsGQax",
     "timestamp": 1593781810191
    },
    {
     "file_id": "1HslgbAWrN2HPOq9yOtqrGSwwqEIZhGsK",
     "timestamp": 1593281500673
    }
   ]
  },
  "kernelspec": {
   "display_name": "Python 3 (ipykernel)",
   "language": "python",
   "name": "python3"
  },
  "language_info": {
   "codemirror_mode": {
    "name": "ipython",
    "version": 3
   },
   "file_extension": ".py",
   "mimetype": "text/x-python",
   "name": "python",
   "nbconvert_exporter": "python",
   "pygments_lexer": "ipython3",
   "version": "3.11.5"
  }
 },
 "nbformat": 4,
 "nbformat_minor": 1
}
